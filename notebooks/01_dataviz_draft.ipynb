{
 "cells": [
  {
   "cell_type": "code",
   "execution_count": 81,
   "metadata": {},
   "outputs": [],
   "source": [
    "import altair as alt\n",
    "import pandas as pd\n"
   ]
  },
  {
   "cell_type": "code",
   "execution_count": 51,
   "metadata": {},
   "outputs": [],
   "source": [
    "datos = pd.read_csv(\"../datos/procesados/migrante_por_año_por_pais.csv\")"
   ]
  },
  {
   "cell_type": "code",
   "execution_count": 52,
   "metadata": {},
   "outputs": [],
   "source": [
    "datos.columns = ['país', 'año', 'factor']"
   ]
  },
  {
   "cell_type": "code",
   "execution_count": 53,
   "metadata": {},
   "outputs": [
    {
     "data": {
      "text/html": [
       "<div>\n",
       "<style scoped>\n",
       "    .dataframe tbody tr th:only-of-type {\n",
       "        vertical-align: middle;\n",
       "    }\n",
       "\n",
       "    .dataframe tbody tr th {\n",
       "        vertical-align: top;\n",
       "    }\n",
       "\n",
       "    .dataframe thead th {\n",
       "        text-align: right;\n",
       "    }\n",
       "</style>\n",
       "<table border=\"1\" class=\"dataframe\">\n",
       "  <thead>\n",
       "    <tr style=\"text-align: right;\">\n",
       "      <th></th>\n",
       "      <th>país</th>\n",
       "      <th>año</th>\n",
       "      <th>factor</th>\n",
       "    </tr>\n",
       "  </thead>\n",
       "  <tbody>\n",
       "    <tr>\n",
       "      <th>0</th>\n",
       "      <td>ARGENTINA</td>\n",
       "      <td>2014</td>\n",
       "      <td>111</td>\n",
       "    </tr>\n",
       "    <tr>\n",
       "      <th>1</th>\n",
       "      <td>ARGENTINA</td>\n",
       "      <td>2015</td>\n",
       "      <td>791</td>\n",
       "    </tr>\n",
       "    <tr>\n",
       "      <th>2</th>\n",
       "      <td>ARGENTINA</td>\n",
       "      <td>2016</td>\n",
       "      <td>883</td>\n",
       "    </tr>\n",
       "    <tr>\n",
       "      <th>3</th>\n",
       "      <td>ARGENTINA</td>\n",
       "      <td>2017</td>\n",
       "      <td>832</td>\n",
       "    </tr>\n",
       "    <tr>\n",
       "      <th>4</th>\n",
       "      <td>ARGENTINA</td>\n",
       "      <td>2018</td>\n",
       "      <td>917</td>\n",
       "    </tr>\n",
       "  </tbody>\n",
       "</table>\n",
       "</div>"
      ],
      "text/plain": [
       "        país   año  factor\n",
       "0  ARGENTINA  2014     111\n",
       "1  ARGENTINA  2015     791\n",
       "2  ARGENTINA  2016     883\n",
       "3  ARGENTINA  2017     832\n",
       "4  ARGENTINA  2018     917"
      ]
     },
     "execution_count": 53,
     "metadata": {},
     "output_type": "execute_result"
    }
   ],
   "source": [
    "datos.head()"
   ]
  },
  {
   "cell_type": "code",
   "execution_count": 54,
   "metadata": {},
   "outputs": [],
   "source": [
    "datos = datos[datos['año'] <= 2018]"
   ]
  },
  {
   "cell_type": "code",
   "execution_count": 74,
   "metadata": {},
   "outputs": [],
   "source": [
    "datos['país'] = (\n",
    "    datos['país'].str.strip()\n",
    "    .str.replace(\"REPUBLICA DE \", \"\")\n",
    "    .str.replace(\"REPUBLICA FEDERATIVA DE \", \"\")\n",
    "    .str.replace(\"REINO DE \", \"\")\n",
    "    .str.replace(\"ESTADO DE \", \"\")\n",
    "    .str.replace(\"COMMONWEALTH DE \", \"\")\n",
    "    .str.replace(\"REPUBLICA FEDERAL DE \", \"\")\n",
    "    .str.replace(\"REPUBLICA POPULAR \", \"\")\n",
    "    .str.replace(\"REPUBLICA FRANCESA\", \"FRANCIA\")\n",
    "    .str.replace(\"REPUBLICA PORTUGUESA\", \"PORTUGAL\")\n",
    "    .str.replace(\"REPUBLICA ITALIANA\", \"ITALIA\")\n",
    "    .str.replace(\"FEDERACION DE \", \"\")\n",
    "    .str.replace(\"REPUBLICA DEL \", \"\")\n",
    "    .str.replace(\"REPUBLICA LIBANESA\", \"LIBANO\")\n",
    "    .str.replace(\"REINO UNIDO DE GRAN BRETAÑA E IRLANDA\", \"REINO UNIDO\")\n",
    ")"
   ]
  },
  {
   "cell_type": "code",
   "execution_count": 75,
   "metadata": {},
   "outputs": [
    {
     "data": {
      "text/plain": [
       "ESPAÑA                       6\n",
       "ESTADOS UNIDOS DE AMERICA    6\n",
       "ALEMANIA                     6\n",
       "CANADA                       6\n",
       "REINO UNIDO                  5\n",
       "CHINA                        5\n",
       "ARGENTINA                    5\n",
       "BRASIL                       5\n",
       "FRANCIA                      4\n",
       "COLOMBIA                     4\n",
       "ITALIA                       3\n",
       "EUROPA                       3\n",
       "TAILANDIA                    3\n",
       "EMIRATOS ARABES UNIDOS       3\n",
       "PANAMA                       3\n",
       "PAIS NO ESPECIFICADO         3\n",
       "PORTUGAL                     2\n",
       "NUEVA ZELANDA                2\n",
       "ISRAEL                       2\n",
       "CUBA                         2\n",
       "PERU                         2\n",
       "NICARAGUA                    2\n",
       "GUATEMALA                    2\n",
       "AUSTRALIA                    2\n",
       "RUMANIA                      1\n",
       "HONDURAS                     1\n",
       "KENIA                        1\n",
       "BELGICA                      1\n",
       "KAZAJSTAN                    1\n",
       "AUSTRIA                      1\n",
       "UCRANIA                      1\n",
       "JAPON                        1\n",
       "BELICE                       1\n",
       "ECUADOR                      1\n",
       "RUSIA                        1\n",
       "REPUBLICA DOMINICANA         1\n",
       "LIBANO                       1\n",
       "LOS PAISES BAJOS             1\n",
       "SUDAFRICA                    1\n",
       "EL SALVADOR                  1\n",
       "CHILE                        1\n",
       "DINAMARCA                    1\n",
       "BARBADOS                     1\n",
       "Name: país, dtype: int64"
      ]
     },
     "execution_count": 75,
     "metadata": {},
     "output_type": "execute_result"
    }
   ],
   "source": [
    "datos['país'].value_counts()"
   ]
  },
  {
   "cell_type": "code",
   "execution_count": 83,
   "metadata": {},
   "outputs": [],
   "source": [
    "%run tema"
   ]
  },
  {
   "cell_type": "code",
   "execution_count": 93,
   "metadata": {},
   "outputs": [
    {
     "data": {
      "application/vnd.vegalite.v3+json": {
       "$schema": "https://vega.github.io/schema/vega-lite/v3.3.0.json",
       "columns": 6,
       "config": {
        "arc": {
         "fill": "#282828"
        },
        "area": {
         "fill": "#282828"
        },
        "background": "#FFFAFA",
        "geoshape": {
         "fill": "#C0C0C0",
         "stroke": "#C7C7C7",
         "strokeWidth": 0.3
        },
        "legend": {
         "labelFontSize": 18,
         "labelLimit": 500,
         "padding": 5,
         "symbolSize": 300,
         "symbolType": "square",
         "titleFontSize": 24,
         "titleLimit": 400,
         "titlePadding": 5
        },
        "padding": 25,
        "range": {
         "category": [
          "#F33C3C",
          "#1f62ae",
          "#683729",
          "#dc0d7a",
          "#02a3cd",
          "#e4a100",
          "#dc0d12",
          "#0DDC6F",
          "#074a7e",
          "#e46800",
          "#aa3594",
          "#a20c4b"
         ],
         "diverging": [
          "#dc0d12",
          "#e9686b",
          "#fbe1e1",
          "#dff4f9",
          "#81d1e6",
          "#03a3cd"
         ],
         "heatmap": [
          "#fcdfef",
          "#f8bfde",
          "#f59fce",
          "#f180be",
          "#ee60ad",
          "#eb409d",
          "#e7208c",
          "#e4007c"
         ]
        },
        "title": {
         "anchor": "start",
         "fontSize": 20,
         "fontWeight": 600,
         "offset": 20
        },
        "view": {
         "padding": 10,
         "stroke": 0
        }
       },
       "data": {
        "name": "data-de310418184b9b2af35e6a4b35cc0ca3"
       },
       "datasets": {
        "data-de310418184b9b2af35e6a4b35cc0ca3": [
         {
          "año": 2014,
          "factor": 111,
          "país": "ARGENTINA"
         },
         {
          "año": 2015,
          "factor": 791,
          "país": "ARGENTINA"
         },
         {
          "año": 2016,
          "factor": 883,
          "país": "ARGENTINA"
         },
         {
          "año": 2017,
          "factor": 832,
          "país": "ARGENTINA"
         },
         {
          "año": 2018,
          "factor": 917,
          "país": "ARGENTINA"
         },
         {
          "año": 2016,
          "factor": 1532,
          "país": "BARBADOS"
         },
         {
          "año": 2017,
          "factor": 189,
          "país": "BELICE"
         },
         {
          "año": 2013,
          "factor": 1399,
          "país": "CANADA"
         },
         {
          "año": 2014,
          "factor": 1288,
          "país": "CANADA"
         },
         {
          "año": 2015,
          "factor": 1072,
          "país": "CANADA"
         },
         {
          "año": 2016,
          "factor": 2503,
          "país": "CANADA"
         },
         {
          "año": 2017,
          "factor": 6476,
          "país": "CANADA"
         },
         {
          "año": 2018,
          "factor": 11832,
          "país": "CANADA"
         },
         {
          "año": 2015,
          "factor": 124,
          "país": "AUSTRALIA"
         },
         {
          "año": 2016,
          "factor": 391,
          "país": "AUSTRALIA"
         },
         {
          "año": 2014,
          "factor": 678,
          "país": "EMIRATOS ARABES UNIDOS"
         },
         {
          "año": 2015,
          "factor": 200,
          "país": "EMIRATOS ARABES UNIDOS"
         },
         {
          "año": 2016,
          "factor": 342,
          "país": "EMIRATOS ARABES UNIDOS"
         },
         {
          "año": 2016,
          "factor": 345,
          "país": "ISRAEL"
         },
         {
          "año": 2018,
          "factor": 1108,
          "país": "ISRAEL"
         },
         {
          "año": 2017,
          "factor": 499,
          "país": "JAPON"
         },
         {
          "año": 2016,
          "factor": 1251,
          "país": "EUROPA"
         },
         {
          "año": 2017,
          "factor": 195,
          "país": "EUROPA"
         },
         {
          "año": 2018,
          "factor": 778,
          "país": "EUROPA"
         },
         {
          "año": 2017,
          "factor": 677,
          "país": "RUSIA"
         },
         {
          "año": 2013,
          "factor": 368,
          "país": "NUEVA ZELANDA"
         },
         {
          "año": 2018,
          "factor": 480,
          "país": "NUEVA ZELANDA"
         },
         {
          "año": 2014,
          "factor": 614,
          "país": "PAIS NO ESPECIFICADO"
         },
         {
          "año": 2016,
          "factor": 67,
          "país": "PAIS NO ESPECIFICADO"
         },
         {
          "año": 2017,
          "factor": 301,
          "país": "PAIS NO ESPECIFICADO"
         },
         {
          "año": 2013,
          "factor": 187,
          "país": "BELGICA"
         },
         {
          "año": 2017,
          "factor": 610,
          "país": "DINAMARCA"
         },
         {
          "año": 2013,
          "factor": 2499,
          "país": "ESPAÑA"
         },
         {
          "año": 2014,
          "factor": 1856,
          "país": "ESPAÑA"
         },
         {
          "año": 2015,
          "factor": 2057,
          "país": "ESPAÑA"
         },
         {
          "año": 2016,
          "factor": 2050,
          "país": "ESPAÑA"
         },
         {
          "año": 2017,
          "factor": 1914,
          "país": "ESPAÑA"
         },
         {
          "año": 2018,
          "factor": 2965,
          "país": "ESPAÑA"
         },
         {
          "año": 2015,
          "factor": 1203,
          "país": "LOS PAISES BAJOS"
         },
         {
          "año": 2013,
          "factor": 89,
          "país": "TAILANDIA"
         },
         {
          "año": 2016,
          "factor": 299,
          "país": "TAILANDIA"
         },
         {
          "año": 2017,
          "factor": 107,
          "país": "TAILANDIA"
         },
         {
          "año": 2014,
          "factor": 1185,
          "país": "REINO UNIDO"
         },
         {
          "año": 2015,
          "factor": 1075,
          "país": "REINO UNIDO"
         },
         {
          "año": 2016,
          "factor": 1218,
          "país": "REINO UNIDO"
         },
         {
          "año": 2017,
          "factor": 361,
          "país": "REINO UNIDO"
         },
         {
          "año": 2018,
          "factor": 1825,
          "país": "REINO UNIDO"
         },
         {
          "año": 2015,
          "factor": 488,
          "país": "AUSTRIA"
         },
         {
          "año": 2015,
          "factor": 117,
          "país": "CHILE"
         },
         {
          "año": 2014,
          "factor": 219,
          "país": "COLOMBIA"
         },
         {
          "año": 2016,
          "factor": 55,
          "país": "COLOMBIA"
         },
         {
          "año": 2017,
          "factor": 256,
          "país": "COLOMBIA"
         },
         {
          "año": 2018,
          "factor": 736,
          "país": "COLOMBIA"
         },
         {
          "año": 2015,
          "factor": 61,
          "país": "CUBA"
         },
         {
          "año": 2016,
          "factor": 134,
          "país": "CUBA"
         },
         {
          "año": 2015,
          "factor": 184,
          "país": "EL SALVADOR"
         },
         {
          "año": 2015,
          "factor": 107,
          "país": "GUATEMALA"
         },
         {
          "año": 2017,
          "factor": 243,
          "país": "GUATEMALA"
         },
         {
          "año": 2017,
          "factor": 166,
          "país": "HONDURAS"
         },
         {
          "año": 2018,
          "factor": 89,
          "país": "KAZAJSTAN"
         },
         {
          "año": 2015,
          "factor": 416,
          "país": "KENIA"
         },
         {
          "año": 2015,
          "factor": 356,
          "país": "NICARAGUA"
         },
         {
          "año": 2016,
          "factor": 115,
          "país": "NICARAGUA"
         },
         {
          "año": 2014,
          "factor": 87,
          "país": "PANAMA"
         },
         {
          "año": 2015,
          "factor": 1487,
          "país": "PANAMA"
         },
         {
          "año": 2018,
          "factor": 1608,
          "país": "PANAMA"
         },
         {
          "año": 2014,
          "factor": 672,
          "país": "PERU"
         },
         {
          "año": 2018,
          "factor": 2351,
          "país": "PERU"
         },
         {
          "año": 2013,
          "factor": 1520,
          "país": "SUDAFRICA"
         },
         {
          "año": 2016,
          "factor": 2202,
          "país": "ECUADOR"
         },
         {
          "año": 2016,
          "factor": 518,
          "país": "REPUBLICA DOMINICANA"
         },
         {
          "año": 2013,
          "factor": 172,
          "país": "ALEMANIA"
         },
         {
          "año": 2014,
          "factor": 217,
          "país": "ALEMANIA"
         },
         {
          "año": 2015,
          "factor": 1309,
          "país": "ALEMANIA"
         },
         {
          "año": 2016,
          "factor": 2610,
          "país": "ALEMANIA"
         },
         {
          "año": 2017,
          "factor": 2696,
          "país": "ALEMANIA"
         },
         {
          "año": 2018,
          "factor": 364,
          "país": "ALEMANIA"
         },
         {
          "año": 2014,
          "factor": 352,
          "país": "BRASIL"
         },
         {
          "año": 2015,
          "factor": 4366,
          "país": "BRASIL"
         },
         {
          "año": 2016,
          "factor": 162,
          "país": "BRASIL"
         },
         {
          "año": 2017,
          "factor": 454,
          "país": "BRASIL"
         },
         {
          "año": 2018,
          "factor": 473,
          "país": "BRASIL"
         },
         {
          "año": 2014,
          "factor": 508,
          "país": "FRANCIA"
         },
         {
          "año": 2016,
          "factor": 2811,
          "país": "FRANCIA"
         },
         {
          "año": 2017,
          "factor": 2325,
          "país": "FRANCIA"
         },
         {
          "año": 2018,
          "factor": 2067,
          "país": "FRANCIA"
         },
         {
          "año": 2014,
          "factor": 335,
          "país": "ITALIA"
         },
         {
          "año": 2017,
          "factor": 451,
          "país": "ITALIA"
         },
         {
          "año": 2018,
          "factor": 875,
          "país": "ITALIA"
         },
         {
          "año": 2013,
          "factor": 430,
          "país": "LIBANO"
         },
         {
          "año": 2013,
          "factor": 369,
          "país": "CHINA"
         },
         {
          "año": 2014,
          "factor": 160,
          "país": "CHINA"
         },
         {
          "año": 2015,
          "factor": 160,
          "país": "CHINA"
         },
         {
          "año": 2017,
          "factor": 603,
          "país": "CHINA"
         },
         {
          "año": 2018,
          "factor": 484,
          "país": "CHINA"
         },
         {
          "año": 2014,
          "factor": 408,
          "país": "PORTUGAL"
         },
         {
          "año": 2018,
          "factor": 251,
          "país": "PORTUGAL"
         },
         {
          "año": 2017,
          "factor": 93,
          "país": "RUMANIA"
         },
         {
          "año": 2015,
          "factor": 126,
          "país": "UCRANIA"
         }
        ]
       },
       "encoding": {
        "facet": {
         "field": "país",
         "title": "País destino",
         "type": "nominal"
        },
        "x": {
         "aggregate": "sum",
         "field": "factor",
         "title": "Número de personas",
         "type": "quantitative"
        },
        "y": {
         "field": "año",
         "type": "nominal"
        }
       },
       "height": 80,
       "mark": {
        "color": "#19267c",
        "type": "bar"
       },
       "title": "Migración Internacional, de México para el Mundo",
       "width": 80
      },
      "image/png": "[encoded data removed]",
      "text/plain": [
       "<VegaLite 3 object>\n",
       "\n",
       "If you see this message, it means the renderer has not been properly enabled\n",
       "for the frontend that you are using. For more information, see\n",
       "https://altair-viz.github.io/user_guide/troubleshooting.html\n"
      ]
     },
     "execution_count": 93,
     "metadata": {},
     "output_type": "execute_result"
    }
   ],
   "source": [
    "alt.Chart(datos[datos['país'] != 'ESTADOS UNIDOS DE AMERICA']).mark_bar(color = \"#19267c\").encode(\n",
    "    x = alt.X('sum(factor)', title = 'Número de personas'),\n",
    "    y = alt.Y('año:N'),\n",
    "#     color = alt.Color('año:N'),\n",
    "    facet = alt.Facet(\"país:N\", title = \"País destino\")\n",
    ").properties(\n",
    "    title = \"Migración Internacional, de México para el Mundo\",\n",
    "    columns = 6,\n",
    "    width = 80,\n",
    "    height = 80,\n",
    ")"
   ]
  },
  {
   "cell_type": "code",
   "execution_count": null,
   "metadata": {},
   "outputs": [],
   "source": []
  }
 ],
 "metadata": {
  "kernelspec": {
   "display_name": "Python 3",
   "language": "python",
   "name": "python3"
  },
  "language_info": {
   "codemirror_mode": {
    "name": "ipython",
    "version": 3
   },
   "file_extension": ".py",
   "mimetype": "text/x-python",
   "name": "python",
   "nbconvert_exporter": "python",
   "pygments_lexer": "ipython3",
   "version": "3.7.3"
  }
 },
 "nbformat": 4,
 "nbformat_minor": 4
}
